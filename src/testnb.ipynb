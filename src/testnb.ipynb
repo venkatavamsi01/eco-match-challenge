{
 "cells": [
  {
   "cell_type": "code",
   "execution_count": 1,
   "id": "d28fe429",
   "metadata": {},
   "outputs": [
    {
     "name": "stdout",
     "output_type": "stream",
     "text": [
      "                                           name  \\\n",
      "0             Abondance cheese, from cow's milk   \n",
      "1       Apricot, canned in light syrup, drained   \n",
      "2   Apricot, canned in light syrup, not drained   \n",
      "3            Apricot, in syrup, canned, drained   \n",
      "4        Apricot, in syrup, canned, not drained   \n",
      "5                          Apricot, pitted, raw   \n",
      "6                        Apricot, pitted, dried   \n",
      "7     Caribbean-style fish fritters, fish acras   \n",
      "8                            Seaweed, agar, raw   \n",
      "9                 Lamb, neck, braised or boiled   \n",
      "10                              Lamb, neck, raw   \n",
      "11                       Lamb, chop fillet, raw   \n",
      "12         Lamb, chop fillet, grilled/pan-fried   \n",
      "13                          Lamb, rib chop, raw   \n",
      "14            Lamb, rib chop, grilled/pan-fried   \n",
      "15                            Lamb, cutlet, raw   \n",
      "16                         Lamb cutlet, grilled   \n",
      "17                          Lamb, shoulder, raw   \n",
      "18                    Lamb, shoulder, lean, raw   \n",
      "19          Lamb, shoulder, lean, roasted/baked   \n",
      "\n",
      "                                      cleaned  \n",
      "0            abondance cheese from cow s milk  \n",
      "1       apricot canned in light syrup drained  \n",
      "2   apricot canned in light syrup not drained  \n",
      "3             apricot in syrup canned drained  \n",
      "4         apricot in syrup canned not drained  \n",
      "5                          apricot pitted raw  \n",
      "6                        apricot pitted dried  \n",
      "7    caribbean style fish fritters fish acras  \n",
      "8                            seaweed agar raw  \n",
      "9                 lamb neck braised or boiled  \n",
      "10                              lamb neck raw  \n",
      "11                       lamb chop fillet raw  \n",
      "12         lamb chop fillet grilled pan fried  \n",
      "13                          lamb rib chop raw  \n",
      "14            lamb rib chop grilled pan fried  \n",
      "15                            lamb cutlet raw  \n",
      "16                        lamb cutlet grilled  \n",
      "17                          lamb shoulder raw  \n",
      "18                     lamb shoulder lean raw  \n",
      "19           lamb shoulder lean roasted baked  \n"
     ]
    }
   ],
   "source": [
    "import pandas as pd\n",
    "\n",
    "df = pd.read_parquet(\"data/processed/product_index.parquet\")\n",
    "print(df[[\"name\", \"cleaned\"]].head(20))\n"
   ]
  },
  {
   "cell_type": "code",
   "execution_count": null,
   "id": "4c93007c",
   "metadata": {},
   "outputs": [],
   "source": []
  }
 ],
 "metadata": {
  "kernelspec": {
   "display_name": "Python 3",
   "language": "python",
   "name": "python3"
  },
  "language_info": {
   "codemirror_mode": {
    "name": "ipython",
    "version": 3
   },
   "file_extension": ".py",
   "mimetype": "text/x-python",
   "name": "python",
   "nbconvert_exporter": "python",
   "pygments_lexer": "ipython3",
   "version": "3.11.0"
  }
 },
 "nbformat": 4,
 "nbformat_minor": 5
}
